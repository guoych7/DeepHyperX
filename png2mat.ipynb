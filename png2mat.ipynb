{
 "cells": [
  {
   "cell_type": "code",
   "execution_count": 1,
   "id": "initial_id",
   "metadata": {
    "collapsed": true,
    "ExecuteTime": {
     "end_time": "2023-12-01T03:57:13.103504700Z",
     "start_time": "2023-12-01T03:57:13.064573800Z"
    }
   },
   "outputs": [
    {
     "ename": "ModuleNotFoundError",
     "evalue": "No module named 'cv2'",
     "output_type": "error",
     "traceback": [
      "\u001B[1;31m---------------------------------------------------------------------------\u001B[0m",
      "\u001B[1;31mModuleNotFoundError\u001B[0m                       Traceback (most recent call last)",
      "Cell \u001B[1;32mIn[1], line 3\u001B[0m\n\u001B[0;32m      1\u001B[0m \u001B[38;5;28;01mimport\u001B[39;00m \u001B[38;5;21;01mscipy\u001B[39;00m\u001B[38;5;21;01m.\u001B[39;00m\u001B[38;5;21;01mio\u001B[39;00m \u001B[38;5;28;01mas\u001B[39;00m \u001B[38;5;21;01mscio\u001B[39;00m\n\u001B[0;32m      2\u001B[0m \u001B[38;5;28;01mimport\u001B[39;00m \u001B[38;5;21;01mnumpy\u001B[39;00m \u001B[38;5;28;01mas\u001B[39;00m \u001B[38;5;21;01mnp\u001B[39;00m\n\u001B[1;32m----> 3\u001B[0m \u001B[38;5;28;01mimport\u001B[39;00m \u001B[38;5;21;01mcv2\u001B[39;00m \u001B[38;5;28;01mas\u001B[39;00m \u001B[38;5;21;01mcv\u001B[39;00m\n\u001B[0;32m      4\u001B[0m \u001B[38;5;28;01mimport\u001B[39;00m \u001B[38;5;21;01mos\u001B[39;00m\n",
      "\u001B[1;31mModuleNotFoundError\u001B[0m: No module named 'cv2'"
     ]
    }
   ],
   "source": [
    "import scipy.io as scio\n",
    "import numpy as np\n",
    "import cv2 as cv\n",
    "import os"
   ]
  },
  {
   "cell_type": "markdown",
   "source": [
    "## 1. 读取png数据"
   ],
   "metadata": {
    "collapsed": false
   },
   "id": "efb7d186ae7dceaa"
  },
  {
   "cell_type": "code",
   "execution_count": 15,
   "outputs": [],
   "source": [
    "def read_pngs(path):\n",
    "    \"\"\"\n",
    "    传入png图片文件夹路径，读取所有png图片形成numpy二维矩阵\n",
    "    :param path:\n",
    "    :return:\n",
    "    \"\"\"\n",
    "    datanames = os.listdir(path)\n",
    "    datanames = sorted(datanames)\n",
    "    img_path = path + '/' + str(datanames[0])\n",
    "    img = cv.imdecode(np.fromfile(img_path, dtype=np.uint8), 0)\n",
    "    a, b = img.shape\n",
    "    c = len(datanames)\n",
    "\n",
    "    msi_arr = np.zeros([a, b, c], dtype=np.uint8)\n",
    "    for i in range(len(datanames)):\n",
    "        if datanames[i][-3:] == 'png':\n",
    "            img_path = path + '/' + str(datanames[i])\n",
    "            img = cv.imdecode(np.fromfile(img_path, dtype=np.uint8), 0)\n",
    "            msi_arr[:, :, i] = img\n",
    "    return msi_arr\n",
    "\n",
    "def read_data(data_dir):\n",
    "    data_names = os.listdir(data_dir)\n",
    "    datas = []\n",
    "    gts = []\n",
    "    for data_name in data_names:\n",
    "        data_path = os.path.join(data_dir, data_name)\n",
    "        # print(data_path)\n",
    "        data_ = read_pngs(os.path.join(data_path, 'combined_data'))\n",
    "        label_path = os.path.join(data_path, 'pretreatment', 'label.png')\n",
    "        gt_ = cv.imdecode(np.fromfile(label_path, dtype=np.uint8), 0)\n",
    "        datas.append(data_)\n",
    "        gts.append(gt_)\n",
    "    data = np.concatenate(tuple(datas), axis=1)\n",
    "    gt = np.concatenate(tuple(gts), axis=1)\n",
    "    return data, gt"
   ],
   "metadata": {
    "collapsed": false,
    "ExecuteTime": {
     "end_time": "2023-12-01T03:57:13.135023800Z",
     "start_time": "2023-12-01T03:57:13.077539600Z"
    }
   },
   "id": "aa8ae522c13873fa"
  },
  {
   "cell_type": "code",
   "execution_count": 16,
   "outputs": [],
   "source": [
    "data_root = r'E:\\PuerTeaImpurity\\data_20230921_2'\n",
    "train_dir = os.path.join(data_root, 'train')\n",
    "test_dir = os.path.join(data_root, 'test')"
   ],
   "metadata": {
    "collapsed": false,
    "ExecuteTime": {
     "end_time": "2023-12-01T03:57:13.142970500Z",
     "start_time": "2023-12-01T03:57:13.092499900Z"
    }
   },
   "id": "7b5a01280d9211d6"
  },
  {
   "cell_type": "code",
   "execution_count": 17,
   "outputs": [
    {
     "name": "stdout",
     "output_type": "stream",
     "text": [
      "(1088, 17940, 13) (1088, 17940)\n",
      "(1088, 17940, 13) (1088, 17940)\n"
     ]
    }
   ],
   "source": [
    "train_data, train_gt = read_data(train_dir)\n",
    "test_data, test_gt = read_data(train_dir)\n",
    "print(train_data.shape, train_gt.shape)\n",
    "print(test_data.shape, test_gt.shape)"
   ],
   "metadata": {
    "collapsed": false,
    "ExecuteTime": {
     "end_time": "2023-12-01T03:57:18.311850200Z",
     "start_time": "2023-12-01T03:57:13.108491800Z"
    }
   },
   "id": "6a44b349e9717e6d"
  },
  {
   "cell_type": "markdown",
   "source": [
    "## 2. 保存数据为.mat文件"
   ],
   "metadata": {
    "collapsed": false
   },
   "id": "6577e448edc77270"
  },
  {
   "cell_type": "code",
   "execution_count": 18,
   "outputs": [],
   "source": [
    "save_dir = './Datasets/Puer0921'"
   ],
   "metadata": {
    "collapsed": false,
    "ExecuteTime": {
     "end_time": "2023-12-01T03:57:18.311850200Z",
     "start_time": "2023-12-01T03:57:18.153182700Z"
    }
   },
   "id": "20e83dc14d696251"
  },
  {
   "cell_type": "code",
   "execution_count": 19,
   "outputs": [],
   "source": [
    "scio.savemat(os.path.join(save_dir, 'train_data.mat'), {'train_data':train_data})\n",
    "scio.savemat(os.path.join(save_dir, 'train_gt.mat'), {'train_gt':train_gt})\n",
    "scio.savemat(os.path.join(save_dir, 'test_data.mat'), {'test_data':test_data})\n",
    "scio.savemat(os.path.join(save_dir, 'test_gt.mat'), {'test_gt':test_gt})"
   ],
   "metadata": {
    "collapsed": false,
    "ExecuteTime": {
     "end_time": "2023-12-01T03:57:23.615805100Z",
     "start_time": "2023-12-01T03:57:18.167145300Z"
    }
   },
   "id": "34b719a47edf66c2"
  }
 ],
 "metadata": {
  "kernelspec": {
   "display_name": "Python 3",
   "language": "python",
   "name": "python3"
  },
  "language_info": {
   "codemirror_mode": {
    "name": "ipython",
    "version": 2
   },
   "file_extension": ".py",
   "mimetype": "text/x-python",
   "name": "python",
   "nbconvert_exporter": "python",
   "pygments_lexer": "ipython2",
   "version": "2.7.6"
  }
 },
 "nbformat": 4,
 "nbformat_minor": 5
}
