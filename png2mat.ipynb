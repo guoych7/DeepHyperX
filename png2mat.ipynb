{
 "cells": [
  {
   "cell_type": "code",
   "execution_count": 20,
   "id": "initial_id",
   "metadata": {
    "collapsed": true,
    "ExecuteTime": {
     "end_time": "2023-12-01T08:22:40.876411700Z",
     "start_time": "2023-12-01T08:22:40.845457700Z"
    }
   },
   "outputs": [],
   "source": [
    "import scipy.io as scio\n",
    "import numpy as np\n",
    "import cv2 as cv\n",
    "import os"
   ]
  },
  {
   "cell_type": "markdown",
   "source": [
    "## 1. 读取png数据"
   ],
   "metadata": {
    "collapsed": false
   },
   "id": "efb7d186ae7dceaa"
  },
  {
   "cell_type": "code",
   "execution_count": 21,
   "outputs": [],
   "source": [
    "def read_pngs(path):\n",
    "    \"\"\"\n",
    "    传入png图片文件夹路径，读取所有png图片形成numpy二维矩阵\n",
    "    :param path:\n",
    "    :return:\n",
    "    \"\"\"\n",
    "    datanames = os.listdir(path)\n",
    "    datanames = sorted(datanames)\n",
    "    img_path = path + '/' + str(datanames[0])\n",
    "    img = cv.imdecode(np.fromfile(img_path, dtype=np.uint8), 0)\n",
    "    a, b = img.shape\n",
    "    c = len(datanames)\n",
    "\n",
    "    msi_arr = np.zeros([a, b, c], dtype=np.uint8)\n",
    "    for i in range(len(datanames)):\n",
    "        if datanames[i][-3:] == 'png':\n",
    "            img_path = path + '/' + str(datanames[i])\n",
    "            img = cv.imdecode(np.fromfile(img_path, dtype=np.uint8), 0)\n",
    "            msi_arr[:, :, i] = img\n",
    "    return msi_arr\n",
    "\n",
    "def read_data(data_dir):\n",
    "    data_names = os.listdir(data_dir)\n",
    "    datas = []\n",
    "    gts = []\n",
    "    for data_name in data_names:\n",
    "        data_path = os.path.join(data_dir, data_name)\n",
    "        # print(data_path)\n",
    "        data_ = read_pngs(os.path.join(data_path, 'combined_data'))\n",
    "        label_path = os.path.join(data_path, 'pretreatment', 'label.png')\n",
    "        gt_ = cv.imdecode(np.fromfile(label_path, dtype=np.uint8), 0)\n",
    "        datas.append(data_)\n",
    "        gts.append(gt_)\n",
    "    data = np.concatenate(tuple(datas), axis=1)\n",
    "    gt = np.concatenate(tuple(gts), axis=1)\n",
    "    return data, gt"
   ],
   "metadata": {
    "collapsed": false,
    "ExecuteTime": {
     "end_time": "2023-12-01T08:22:40.900869200Z",
     "start_time": "2023-12-01T08:22:40.868397100Z"
    }
   },
   "id": "aa8ae522c13873fa"
  },
  {
   "cell_type": "code",
   "execution_count": 22,
   "outputs": [],
   "source": [
    "data_root = r'E:\\PuerTeaImpurity\\data_20230921_3'\n",
    "train_dir = os.path.join(data_root, 'train')\n",
    "# test_dir = os.path.join(data_root, 'test')"
   ],
   "metadata": {
    "collapsed": false,
    "ExecuteTime": {
     "end_time": "2023-12-01T08:22:40.911872500Z",
     "start_time": "2023-12-01T08:22:40.880934400Z"
    }
   },
   "id": "7b5a01280d9211d6"
  },
  {
   "cell_type": "code",
   "execution_count": 23,
   "outputs": [
    {
     "name": "stdout",
     "output_type": "stream",
     "text": [
      "(1088, 5520, 13) (1088, 5520)\n"
     ]
    }
   ],
   "source": [
    "train_data, train_gt = read_data(train_dir)\n",
    "# test_data, test_gt = read_data(train_dir)\n",
    "print(train_data.shape, train_gt.shape)\n",
    "# print(test_data.shape, test_gt.shape)"
   ],
   "metadata": {
    "collapsed": false,
    "ExecuteTime": {
     "end_time": "2023-12-01T08:22:42.059311700Z",
     "start_time": "2023-12-01T08:22:40.895883400Z"
    }
   },
   "id": "6a44b349e9717e6d"
  },
  {
   "cell_type": "markdown",
   "source": [
    "## 2. 保存数据为.mat文件"
   ],
   "metadata": {
    "collapsed": false
   },
   "id": "6577e448edc77270"
  },
  {
   "cell_type": "code",
   "execution_count": 24,
   "outputs": [],
   "source": [
    "save_dir = './Datasets/Puer0921'"
   ],
   "metadata": {
    "collapsed": false,
    "ExecuteTime": {
     "end_time": "2023-12-01T08:22:42.059311700Z",
     "start_time": "2023-12-01T08:22:41.755363500Z"
    }
   },
   "id": "20e83dc14d696251"
  },
  {
   "cell_type": "code",
   "execution_count": 25,
   "outputs": [],
   "source": [
    "scio.savemat(os.path.join(save_dir, 'train_data.mat'), {'train_data':train_data})\n",
    "scio.savemat(os.path.join(save_dir, 'train_gt.mat'), {'train_gt':train_gt})\n",
    "# scio.savemat(os.path.join(save_dir, 'test_data.mat'), {'test_data':test_data})\n",
    "# scio.savemat(os.path.join(save_dir, 'test_gt.mat'), {'test_gt':test_gt})"
   ],
   "metadata": {
    "collapsed": false,
    "ExecuteTime": {
     "end_time": "2023-12-01T08:22:43.477103700Z",
     "start_time": "2023-12-01T08:22:41.773312200Z"
    }
   },
   "id": "34b719a47edf66c2"
  }
 ],
 "metadata": {
  "kernelspec": {
   "display_name": "Python 3",
   "language": "python",
   "name": "python3"
  },
  "language_info": {
   "codemirror_mode": {
    "name": "ipython",
    "version": 2
   },
   "file_extension": ".py",
   "mimetype": "text/x-python",
   "name": "python",
   "nbconvert_exporter": "python",
   "pygments_lexer": "ipython2",
   "version": "2.7.6"
  }
 },
 "nbformat": 4,
 "nbformat_minor": 5
}
